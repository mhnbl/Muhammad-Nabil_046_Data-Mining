{
  "nbformat": 4,
  "nbformat_minor": 0,
  "metadata": {
    "colab": {
      "provenance": [],
      "authorship_tag": "ABX9TyNGJOUWgzOoshEA3+Ckh+CU",
      "include_colab_link": true
    },
    "kernelspec": {
      "name": "python3",
      "display_name": "Python 3"
    },
    "language_info": {
      "name": "python"
    }
  },
  "cells": [
    {
      "cell_type": "markdown",
      "metadata": {
        "id": "view-in-github",
        "colab_type": "text"
      },
      "source": [
        "<a href=\"https://colab.research.google.com/github/mhnbl/Muhammad-Nabil_046_Data-Mining/blob/main/Muhammad_Nabil_2209116046.ipynb\" target=\"_parent\"><img src=\"https://colab.research.google.com/assets/colab-badge.svg\" alt=\"Open In Colab\"/></a>"
      ]
    },
    {
      "cell_type": "markdown",
      "source": [
        "# Analisis Sentimen dan Prediksi Penilaian Game Berdasarkan Faktor-Faktor Tertentu Guna Memahami Keberhasilan Video Game"
      ],
      "metadata": {
        "id": "-dEofZAOLVxm"
      }
    },
    {
      "cell_type": "markdown",
      "source": [
        "## Business Understanding"
      ],
      "metadata": {
        "id": "Wr-bDMWyMWt6"
      }
    },
    {
      "cell_type": "markdown",
      "source": [
        "### **Business Objective**\n",
        "\n",
        "Tujuan bisnis dari dataset \"IGN games from best to worst\" adalah untuk memahami faktor-faktor apa yang mempengaruhi rating (skor) dari video games. Selain itu, kita ingin dapat membuat prediksi skor berdasarkan fitur-fitur tertentu dari video game tersebut. Analisis ini dapat membantu pengembang game, penerbit, dan pemain untuk memahami elemen-elemen apa yang dapat meningkatkan atau menurunkan kualitas suatu permainan.\n",
        "\n",
        "### **Assess Situation**\n",
        "\n",
        "Situasi bisnis yang mendasari analisis ini adalah keinginan industri game untuk memahami faktor-faktor kunci yang dapat memengaruhi kesuksesan suatu game. Dengan pemahaman yang lebih baik tentang aspek-aspek yang berkaitan dengan skor, para pengembang game dapat fokus pada elemen-elemen tersebut untuk meningkatkan kualitas dan penerimaan game di pasar.\n",
        "\n",
        "### **Data Mining Goals**\n",
        "\n",
        "Tujuan dari Data Mining pada dataset ini adalah untuk memahami hubungan antara variabel-variabel seperti platform, genre, tahun rilis, dan lainnya dengan skor suatu game. Selain itu, kita dapat mengembangkan model prediktif yang dapat memperkirakan skor game berdasarkan fitur-fitur tersebut. Hal ini dapat membantu pengambilan keputusan di industri game untuk meningkatkan kualitas dan daya tarik game.\n",
        "\n",
        "### **Project Plan**\n",
        "\n",
        "Rencana proyek untuk menganalisis dataset ini dimulai dengan pemahaman mendalam tentang karakteristik dataset, seperti distribusi skor, platform yang dominan, genre yang populer, dan lainnya. Selanjutnya, eksplorasi data akan dilakukan untuk mengidentifikasi pola-pola menarik dan korelasi antar variabel. Kualitas data akan dievaluasi, dan langkah-langkah pra-pemrosesan data akan diambil untuk mengatasi masalah data. Tahap akhir melibatkan pembangunan model prediktif dan evaluasi performanya.\n",
        "\n",
        "Analisis ini dapat memberikan wawasan berharga kepada industri game untuk meningkatkan kualitas dan penerimaan game, serta membantu pemain dalam membuat pilihan berdasarkan preferensi mereka."
      ],
      "metadata": {
        "id": "E69mW6FXLRmr"
      }
    }
  ]
}